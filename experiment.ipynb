{
 "cells": [
  {
   "cell_type": "code",
   "execution_count": 99,
   "metadata": {},
   "outputs": [],
   "source": [
    "import logging\n",
    "import tweepy\n",
    "import ast\n",
    "import time \n",
    "import datetime as dt\n",
    "import json\n",
    "import dotenv\n",
    "import os\n",
    "import boto3\n",
    "dotenv.load_dotenv()\n",
    "\n",
    "BEARER_TOKEN = os.environ['BEARER_TOKEN']\n",
    "\n",
    "\n",
    "rule_1 = \"COVID19 lang:en\"\n",
    "rule_2 = \"#covid19 lang:en\"\n",
    "\n",
    "\n",
    "def its_time(start_time, current_time, interval=20):\n",
    "    stop = start_time + interval\n",
    "    if current_time >= stop:\n",
    "        return True\n",
    "    return False\n",
    "\n",
    "def send_message(msg):\n",
    "    print(msg)\n",
    "    #send_message.called = True\n",
    "    \n",
    "\n",
    "def package_message(raw):\n",
    "    \n",
    "    tweet_data = ast.literal_eval(raw.decode('UTF-8'))\n",
    "\n",
    "    tweet_dict = dict(tweet=tweet_data['data']['text'])\n",
    "\n",
    "    return tweet_data['data']['text']\n",
    "    #json.dumps(tweet_dict, indent=2).encode('utf-8')\n",
    "\n",
    "import cleantext\n",
    "def clean_text(text):\n",
    "    text = cleantext.remove_emoji(text)\n",
    "    text = cleantext.replace_urls(text, '')\n",
    "    text = text.replace('#', '').replace('RT', '').replace('\\n', '').strip()\n",
    "\n",
    "    return text\n",
    "\n",
    "    \n",
    "\n",
    "\n",
    "class MyStream(tweepy.StreamingClient):\n",
    "\n",
    "    def on_connect(self):\n",
    "        print(\"Connected to Stream!!!\\n ===================\")\n",
    "        \n",
    "\n",
    "    def on_data(self, raw_data):\n",
    "        \n",
    "        message = package_message(raw_data)\n",
    "\n",
    "        message = clean_text(message)\n",
    "\n",
    "        send_message(message)\n",
    "       \n",
    "        time.sleep(2)\n",
    "\n",
    "\n",
    "    def on_error(self, status_code):\n",
    "        if status_code == 420:\n",
    "            # returning False in on_data disconnects the stream\n",
    "            return False\n",
    "    def on_errors(self, errors):\n",
    "        \n",
    "        error_msg = super().on_errors(errors)\n",
    "        #notify(msg=\"ACTION REQUIRED: Error has occured while streaming from twitter.\")\n",
    "\n",
    "    def start_stream(self):\n",
    "        self.filter(tweet_fields=['referenced_tweets'])\n",
    "\n",
    "    def on_connection_error(self):\n",
    "        print(\"Could not connect to the Stream\")\n",
    "        return super().on_connection_error()\n",
    "    \n",
    "    def on_disconnect(self):\n",
    "        raise Exception\n",
    "\n",
    "def reset_rules(stream):\n",
    "    rules = stream.get_rules().data\n",
    "    rules_ids =[]\n",
    "    for rule in rules:\n",
    "        rules_ids.append(rule.id)\n",
    "\n",
    "    stream.delete_rules(rules_ids)\n",
    "    stream.add_rules(tweepy.StreamRule(rule_1, tag=\"covid\"))\n",
    "    stream.add_rules(tweepy.StreamRule(rule_2, tag=\"covid\"))\n"
   ]
  },
  {
   "cell_type": "code",
   "execution_count": 100,
   "metadata": {},
   "outputs": [
    {
     "name": "stdout",
     "output_type": "stream",
     "text": [
      "Connected to Stream!!!\n",
      " ===================\n",
      "@WHO Utter and complete nonsense. Unscientific and not at all in line with the evidence. Masks are social control and extremely unhealthy to all people for multiple reasons.\n",
      "@joyhealthcare01 How and why does kale hurt your thyroid?\n",
      "@WHO That's why people were still getting sick despite wearing masks.  Just let it go already\n",
      "@EvanBlake17: The CDC's cover-up of data on XBB15 is among the greatest scandals of the COVID19 pandemic, but the corporate media rema…\n",
      "Just mask  up folks.Let's get this done without drama...just help each other out.\n",
      "@LetsGoBrando45: Refusing the Covid19 Vaccine was justified at the onset of the ‘pandemic’ due to Pfizer’s extensive history of crimi…\n",
      "@WHO The evidence that it “saves lives” is exceedingly poor. I will continue not wearing one, despite the mRNA-poisoned people spewing their immune-deficient covid gunk all over the place around me.\n",
      "@SRAnesthesiaICU: A very nice editorial on our systematic review on barotrauma (16%) pneumothorax (10%) in covid19 intubated patient…\n",
      "@WHO It don't do shit. Viruses are fake.\n",
      "@DrEricDing: We have to assume every flight carries COVID19 while pandemic still raging. 96% of flights positive for COVID in toilet…\n",
      "@DrEricDing: We have to assume every flight carries COVID19 while pandemic still raging. 96% of flights positive for COVID in toilet…\n",
      "@WHO Hard pass\n",
      "@2022_Lockdown: The death toll in China must be terrible.January 5, Jinan funeral home crowded with people.ChineseCovidDeaths Chin…\n",
      "@WHO Get it right roon ye\n",
      "@picphysicians: CDC data show mass vaccination with the COVID-19 vaccine has had no measurable impact on the COVID-19 mortality rate in…\n",
      "China arrivals account for 80% of S. Korea's new COVID cases from overseasCOVID19 Daily  Arirang_News\n",
      "@mMd89VTtSHqnJQv: @gohhog1 Éssence of the best city management is a low tax.After COVID19,we found the government's policy poorHow fai…\n"
     ]
    },
    {
     "ename": "Exception",
     "evalue": "",
     "output_type": "error",
     "traceback": [
      "\u001b[1;31m---------------------------------------------------------------------------\u001b[0m",
      "\u001b[1;31mKeyboardInterrupt\u001b[0m                         Traceback (most recent call last)",
      "File \u001b[1;32mc:\\Users\\USER\\anaconda3\\envs\\kafka-env\\lib\\site-packages\\tweepy\\streaming.py:91\u001b[0m, in \u001b[0;36mBaseStream._connect\u001b[1;34m(self, method, url, auth, params, headers, body)\u001b[0m\n\u001b[0;32m     90\u001b[0m \u001b[39mif\u001b[39;00m line:\n\u001b[1;32m---> 91\u001b[0m     \u001b[39mself\u001b[39;49m\u001b[39m.\u001b[39;49mon_data(line)\n\u001b[0;32m     92\u001b[0m \u001b[39melse\u001b[39;00m:\n",
      "Cell \u001b[1;32mIn [99], line 64\u001b[0m, in \u001b[0;36mMyStream.on_data\u001b[1;34m(self, raw_data)\u001b[0m\n\u001b[0;32m     62\u001b[0m send_message(message)\n\u001b[1;32m---> 64\u001b[0m time\u001b[39m.\u001b[39;49msleep(\u001b[39m2\u001b[39;49m)\n",
      "\u001b[1;31mKeyboardInterrupt\u001b[0m: ",
      "\nDuring handling of the above exception, another exception occurred:\n",
      "\u001b[1;31mException\u001b[0m                                 Traceback (most recent call last)",
      "Cell \u001b[1;32mIn [100], line 3\u001b[0m\n\u001b[0;32m      1\u001b[0m stream \u001b[39m=\u001b[39m MyStream(BEARER_TOKEN)\n\u001b[0;32m      2\u001b[0m reset_rules(stream)\n\u001b[1;32m----> 3\u001b[0m stream\u001b[39m.\u001b[39;49mstart_stream()\n",
      "Cell \u001b[1;32mIn [99], line 77\u001b[0m, in \u001b[0;36mMyStream.start_stream\u001b[1;34m(self)\u001b[0m\n\u001b[0;32m     76\u001b[0m \u001b[39mdef\u001b[39;00m \u001b[39mstart_stream\u001b[39m(\u001b[39mself\u001b[39m):\n\u001b[1;32m---> 77\u001b[0m     \u001b[39mself\u001b[39;49m\u001b[39m.\u001b[39;49mfilter(tweet_fields\u001b[39m=\u001b[39;49m[\u001b[39m'\u001b[39;49m\u001b[39mreferenced_tweets\u001b[39;49m\u001b[39m'\u001b[39;49m])\n",
      "File \u001b[1;32mc:\\Users\\USER\\anaconda3\\envs\\kafka-env\\lib\\site-packages\\tweepy\\streaming.py:791\u001b[0m, in \u001b[0;36mStreamingClient.filter\u001b[1;34m(self, threaded, **params)\u001b[0m\n\u001b[0;32m    789\u001b[0m     \u001b[39mreturn\u001b[39;00m \u001b[39mself\u001b[39m\u001b[39m.\u001b[39m_threaded_connect(method, endpoint, params\u001b[39m=\u001b[39mparams)\n\u001b[0;32m    790\u001b[0m \u001b[39melse\u001b[39;00m:\n\u001b[1;32m--> 791\u001b[0m     \u001b[39mself\u001b[39;49m\u001b[39m.\u001b[39;49m_connect(method, endpoint, params\u001b[39m=\u001b[39;49mparams)\n",
      "File \u001b[1;32mc:\\Users\\USER\\anaconda3\\envs\\kafka-env\\lib\\site-packages\\tweepy\\streaming.py:611\u001b[0m, in \u001b[0;36mStreamingClient._connect\u001b[1;34m(self, method, endpoint, **kwargs)\u001b[0m\n\u001b[0;32m    609\u001b[0m \u001b[39mself\u001b[39m\u001b[39m.\u001b[39msession\u001b[39m.\u001b[39mheaders[\u001b[39m\"\u001b[39m\u001b[39mAuthorization\u001b[39m\u001b[39m\"\u001b[39m] \u001b[39m=\u001b[39m \u001b[39mf\u001b[39m\u001b[39m\"\u001b[39m\u001b[39mBearer \u001b[39m\u001b[39m{\u001b[39;00m\u001b[39mself\u001b[39m\u001b[39m.\u001b[39mbearer_token\u001b[39m}\u001b[39;00m\u001b[39m\"\u001b[39m\n\u001b[0;32m    610\u001b[0m url \u001b[39m=\u001b[39m \u001b[39mf\u001b[39m\u001b[39m\"\u001b[39m\u001b[39mhttps://api.twitter.com/2/tweets/\u001b[39m\u001b[39m{\u001b[39;00mendpoint\u001b[39m}\u001b[39;00m\u001b[39m/stream\u001b[39m\u001b[39m\"\u001b[39m\n\u001b[1;32m--> 611\u001b[0m \u001b[39msuper\u001b[39m()\u001b[39m.\u001b[39m_connect(method, url, \u001b[39m*\u001b[39m\u001b[39m*\u001b[39mkwargs)\n",
      "File \u001b[1;32mc:\\Users\\USER\\anaconda3\\envs\\kafka-env\\lib\\site-packages\\tweepy\\streaming.py:147\u001b[0m, in \u001b[0;36mBaseStream._connect\u001b[1;34m(self, method, url, auth, params, headers, body)\u001b[0m\n\u001b[0;32m    145\u001b[0m \u001b[39mself\u001b[39m\u001b[39m.\u001b[39msession\u001b[39m.\u001b[39mclose()\n\u001b[0;32m    146\u001b[0m \u001b[39mself\u001b[39m\u001b[39m.\u001b[39mrunning \u001b[39m=\u001b[39m \u001b[39mFalse\u001b[39;00m\n\u001b[1;32m--> 147\u001b[0m \u001b[39mself\u001b[39;49m\u001b[39m.\u001b[39;49mon_disconnect()\n",
      "Cell \u001b[1;32mIn [99], line 84\u001b[0m, in \u001b[0;36mMyStream.on_disconnect\u001b[1;34m(self)\u001b[0m\n\u001b[0;32m     83\u001b[0m \u001b[39mdef\u001b[39;00m \u001b[39mon_disconnect\u001b[39m(\u001b[39mself\u001b[39m):\n\u001b[1;32m---> 84\u001b[0m     \u001b[39mraise\u001b[39;00m \u001b[39mException\u001b[39;00m\n",
      "\u001b[1;31mException\u001b[0m: "
     ]
    }
   ],
   "source": [
    "stream = MyStream(BEARER_TOKEN)\n",
    "reset_rules(stream)\n",
    "stream.start_stream()"
   ]
  },
  {
   "cell_type": "code",
   "execution_count": 102,
   "metadata": {},
   "outputs": [],
   "source": [
    "from bs4 import BeautifulSoup\n",
    "import requests"
   ]
  },
  {
   "cell_type": "code",
   "execution_count": 181,
   "metadata": {},
   "outputs": [],
   "source": [
    "url = \"\"\"https://www.worldometers.info/coronavirus/\"\"\"\n",
    "\n",
    "def scrape(url):\n",
    "    info = {}\n",
    "    res = requests.get(url=url)\n",
    "\n",
    "    if res.status_code != 200:\n",
    "        print(f\"Access Denied!!\\n Erro {res.status_code}\")\n",
    "\n",
    "    else:\n",
    "        soup = BeautifulSoup(res.content)  \n",
    "        data = soup.select('body')[0]\n",
    "        content = data.select('div.container')[1].select('div.row')[1].select('div.col-md-8')[0].select('div.content-inner')[0].\\\n",
    "        select('div')\n",
    "\n",
    "        # Get time number of cases was updated \n",
    "        update_time = content[1].text.strip()\n",
    "\n",
    "        # Get the number of cases\n",
    "        number_cases = content[3].select('div.maincounter-number')[0].select('span')[0].text.strip()\n",
    "        #number_cases = number_cases.replace(',','')\n",
    "\n",
    "        info = dict(time = update_time, cases = number_cases)\n",
    "\n",
    "        return info"
   ]
  },
  {
   "cell_type": "code",
   "execution_count": 179,
   "metadata": {},
   "outputs": [],
   "source": [
    "data = scrape(url)"
   ]
  },
  {
   "cell_type": "code",
   "execution_count": 180,
   "metadata": {},
   "outputs": [
    {
     "data": {
      "text/plain": [
       "{'time': 'Last updated: January 06, 2023, 12:04 GMT', 'cases': '667,506,481'}"
      ]
     },
     "execution_count": 180,
     "metadata": {},
     "output_type": "execute_result"
    }
   ],
   "source": [
    "data"
   ]
  },
  {
   "cell_type": "code",
   "execution_count": null,
   "metadata": {},
   "outputs": [],
   "source": []
  }
 ],
 "metadata": {
  "kernelspec": {
   "display_name": "kafka-env",
   "language": "python",
   "name": "python3"
  },
  "language_info": {
   "codemirror_mode": {
    "name": "ipython",
    "version": 3
   },
   "file_extension": ".py",
   "mimetype": "text/x-python",
   "name": "python",
   "nbconvert_exporter": "python",
   "pygments_lexer": "ipython3",
   "version": "3.10.4"
  },
  "orig_nbformat": 4,
  "vscode": {
   "interpreter": {
    "hash": "797a15064095d326a92eae5fa76ec400ae8f9877c303b27afd064cedb67b59ae"
   }
  }
 },
 "nbformat": 4,
 "nbformat_minor": 2
}
